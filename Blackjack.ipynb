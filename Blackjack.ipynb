{
 "cells": [
  {
   "cell_type": "code",
   "execution_count": 1,
   "metadata": {},
   "outputs": [],
   "source": [
    "import random\n",
    "import seaborn as sns\n",
    "import  matplotlib.pyplot as plt"
   ]
  },
  {
   "cell_type": "code",
   "execution_count": 23,
   "metadata": {},
   "outputs": [],
   "source": [
    "def deck(num_of_deck=1):\n",
    "    all_deck=[]\n",
    "    colors=[\"Heart\",\"Diamond\",\"Spade\",\"Club\"]\n",
    "    nums=[\"A\", 2, 3, 4, 5, 6, 7, 8, 9, \"T\",\"J\",\"Q\",\"K\"]\n",
    "    for color in colors:\n",
    "        for num in nums:\n",
    "            all_deck.append( str(num)   +\" of \"+ color)\n",
    "    random.shuffle(all_deck)\n",
    "    return(all_deck*num_of_deck)"
   ]
  },
  {
   "cell_type": "code",
   "execution_count": 42,
   "metadata": {},
   "outputs": [],
   "source": [
    "x=cards_deck(1)"
   ]
  },
  {
   "cell_type": "code",
   "execution_count": 43,
   "metadata": {},
   "outputs": [
    {
     "data": {
      "text/plain": [
       "52"
      ]
     },
     "execution_count": 43,
     "metadata": {},
     "output_type": "execute_result"
    }
   ],
   "source": [
    "len(x)"
   ]
  },
  {
   "cell_type": "code",
   "execution_count": 44,
   "metadata": {},
   "outputs": [
    {
     "data": {
      "text/plain": [
       "2"
      ]
     },
     "execution_count": 44,
     "metadata": {},
     "output_type": "execute_result"
    }
   ],
   "source": [
    "x.pop()"
   ]
  },
  {
   "cell_type": "code",
   "execution_count": 45,
   "metadata": {},
   "outputs": [],
   "source": [
    "def drawCard():\n",
    "    player_count=0\n",
    "    dealer_count=0\n",
    "    \n",
    "    player_count=player_count+x.pop()\n",
    "    #print(f\"Players first card:{player_count}\")\n",
    "    dealer_count=dealer_count+x.pop()\n",
    "    #print(f\"Dealers first card:{dealer_count}\")\n",
    "    player_count=player_count+x.pop()\n",
    "    dealer_count=dealer_count+x.pop()\n",
    "\n",
    "#     print(f\"Player Total: {player_count}\")\n",
    "#     print(f\"Dealer Total: {dealer_count}\")\n",
    "#     print(f\"Card remaining : {len(x)}\")\n",
    "#     print()\n",
    "    \n",
    "    if player_count>dealer_count:\n",
    "        #return(f\"Player won: ,{player_count} vs. {dealer_count}\",1)\n",
    "        return(1)\n",
    "    else:\n",
    "        #return (f\"Dealer won: {dealer_count} vs. {player_count}\",0)\n",
    "        return(0)\n",
    "    \n",
    "              "
   ]
  },
  {
   "cell_type": "code",
   "execution_count": 48,
   "metadata": {},
   "outputs": [
    {
     "name": "stdout",
     "output_type": "stream",
     "text": [
      "won: 3\n",
      "won: 3\n",
      "won: 8\n",
      "won: 5\n",
      "won: 7\n",
      "won: 8\n",
      "won: 6\n",
      "won: 7\n",
      "won: 7\n",
      "won: 2\n",
      "56\n"
     ]
    },
    {
     "data": {
      "image/png": "[encoded data removed]",
      "text/plain": [
       "<Figure size 432x288 with 1 Axes>"
      ]
     },
     "metadata": {
      "needs_background": "light"
     },
     "output_type": "display_data"
    }
   ],
   "source": [
    "total=[]\n",
    "for i in range(10) :\n",
    "    rounds=len(deck())//4\n",
    "    result=[]\n",
    "    for i in range(rounds):\n",
    "        try:\n",
    "            a=drawCard()\n",
    "            result.append(a)\n",
    "        except IndexError:\n",
    "            #print(\"Time to Resuffle\")\n",
    "            x=cards_deck()\n",
    "    #print(result)\n",
    "    print(f'won: {sum(result)}')\n",
    "    total.append(sum(result))\n",
    "#    print(f'win%: {int(sum(result)/rounds*100)}')\n",
    "#     print()\n",
    "#total=sum(result)\n",
    "print(sum(total))\n",
    "sns.countplot(result)\n",
    "plt.title(f'Winning chance:{int(sum(result)/rounds*100)}%')\n",
    "plt.show()"
   ]
  },
  {
   "cell_type": "code",
   "execution_count": null,
   "metadata": {},
   "outputs": [],
   "source": []
  },
  {
   "cell_type": "code",
   "execution_count": 92,
   "metadata": {},
   "outputs": [],
   "source": [
    "def draw(cards_deck):\n",
    "    players_hand=[]\n",
    "    dealers_hand=[]\n",
    "    try:\n",
    "        players_hand.append(cards_deck.pop())\n",
    "        dealers_hand.append(cards_deck.pop())\n",
    "        players_hand.append(cards_deck.pop())\n",
    "        dealers_hand.append(cards_deck.pop()) \n",
    "\n",
    "        print(players_hand)\n",
    "        print(dealers_hand)\n",
    "        print(len(cards_deck))\n",
    "        \n",
    "              \n",
    "    except IndexError:\n",
    "        print(\"Shuffeling the card\")\n",
    "        print()\n",
    "        x=deck()\n",
    "        \n",
    "#     for card in cards_deck:\n",
    "#         players_hand.append(card.)\n",
    "#         #if card[1]==\"T\" or card[1]==\"J\"or card[1]==\"K\" or card[1]==\"Q\"   "
   ]
  },
  {
   "cell_type": "code",
   "execution_count": 101,
   "metadata": {},
   "outputs": [
    {
     "name": "stdout",
     "output_type": "stream",
     "text": [
      "Shuffeling the card\n",
      "\n"
     ]
    }
   ],
   "source": [
    "draw(x)"
   ]
  },
  {
   "cell_type": "code",
   "execution_count": 176,
   "metadata": {},
   "outputs": [],
   "source": [
    "num_of_deck=1\n",
    "shuffle_perc=80\n",
    "\n",
    "def cards_deck(num_of_deck=num_of_deck):\n",
    "\n",
    "    std_deck=[ 1,2, 3, 4, 5, 6, 7, 8, 9, 10,10,10,10,\n",
    "               1,2, 3, 4, 5, 6, 7, 8, 9, 10,10,10,10,\n",
    "               1,2, 3, 4, 5, 6, 7, 8, 9, 10,10,10,10,\n",
    "               1,2, 3, 4, 5, 6, 7, 8, 9, 10,10,10,10          \n",
    "             ]\n",
    "    \n",
    "    std_deck =std_deck*num_of_deck\n",
    "    random.shuffle(std_deck)\n",
    "    return std_deck\n",
    "    "
   ]
  },
  {
   "cell_type": "code",
   "execution_count": 212,
   "metadata": {},
   "outputs": [],
   "source": [
    "\n",
    "def play_hand(deck):\n",
    "    new_deck=deck\n",
    "    dealer_hand=[]\n",
    "    player_hand=[]\n",
    "        \n",
    "    player_hand.append(new_deck.pop())\n",
    "    dealer_hand.append(new_deck.pop())\n",
    "    player_hand.append(new_deck.pop())\n",
    "    dealer_hand.append(new_deck.pop()) \n",
    "    \n",
    "    # deal player to 12 or higher\n",
    "    while sum(player_hand) < 12:\n",
    "        player_hand.append(new_deck.pop())\n",
    "     \n",
    "    #deal deal to hit soft 17\n",
    "    while sum(dealer_hand) < 18:\n",
    "        exit=False\n",
    "        \n",
    "        if sum(dealer_hand)== 17:\n",
    "            exit= True\n",
    "            \n",
    "            for i, card in enumerate(dealer_hand):\n",
    "                \n",
    "                if card==11:\n",
    "                    exit=False\n",
    "                    dealer_hand[1]=1\n",
    "                    \n",
    "        if exit:\n",
    "            break\n",
    "            \n",
    "        dealer_hand.append(new_deck.pop())\n",
    "        \n",
    "    #return(p_sum,d_sum,player_hand,dealer_hand)\n",
    "        \n",
    "    p_sum=sum(player_hand)\n",
    "    d_sum=sum(dealer_hand)\n",
    "    \n",
    "    # dealer bust\n",
    "    if d_sum >21:\n",
    "        return (1,player_hand,dealer_hand);\n",
    "    #dealer tie\n",
    "    if d_sum == p_sum:\n",
    "        return (0,player_hand,dealer_hand);\n",
    "    #dealer win\n",
    "    if d_sum > p_sum:\n",
    "        return (-1,player_hand,dealer_hand)\n",
    "    #dealer loose\n",
    "    if d_sum < p_sum:\n",
    "        return (1,player_hand,dealer_hand)"
   ]
  },
  {
   "cell_type": "code",
   "execution_count": 234,
   "metadata": {},
   "outputs": [
    {
     "data": {
      "text/plain": [
       "52"
      ]
     },
     "execution_count": 234,
     "metadata": {},
     "output_type": "execute_result"
    }
   ],
   "source": [
    "deck=cards_deck()\n",
    "#play_hand(deck)\n",
    "len(deck)"
   ]
  },
  {
   "cell_type": "code",
   "execution_count": 241,
   "metadata": {},
   "outputs": [
    {
     "name": "stdout",
     "output_type": "stream",
     "text": [
      "(-1, [5, 4, 10], [9, 7, 5])\n",
      "46\n",
      "(-1, [2, 10], [1, 10, 10])\n",
      "41\n",
      "(1, [9, 10], [7, 9, 10])\n",
      "36\n",
      "(-1, [3, 10], [6, 3, 4, 4])\n",
      "30\n",
      "(-1, [6, 6], [5, 2, 10])\n",
      "25\n",
      "(1, [10, 7], [1, 3, 2, 3, 7, 10])\n",
      "17\n",
      "(-1, [9, 1, 2], [8, 10])\n",
      "12\n",
      "(-1, [6, 5, 8], [10, 10])\n",
      "7\n",
      "(-1, [10, 8], [10, 1, 8])\n",
      "2\n",
      "(1, [10, 9], [6, 2, 3, 7])\n",
      "46\n",
      "(-1, [7, 10], [1, 8, 10])\n",
      "41\n",
      "(1, [9, 10], [1, 9, 4, 10])\n",
      "35\n",
      "(1, [3, 3, 10], [6, 2, 8, 10])\n",
      "28\n",
      "(-1, [10, 5], [7, 1, 9])\n",
      "23\n",
      "(1, [6, 5, 10], [10, 2, 8])\n",
      "17\n",
      "(-1, [10, 5], [8, 10])\n",
      "13\n",
      "(-1, [4, 10], [1, 5, 4, 10])\n",
      "7\n",
      "(-1, [10, 2], [10, 7])\n",
      "3\n",
      "(1, [4, 6, 5], [10, 3, 10])\n",
      "46\n",
      "(-1, [8, 9], [2, 3, 1, 3, 10])\n",
      "39\n",
      "(-1, [1, 4, 10], [7, 5, 6])\n",
      "33\n",
      "(-1, [2, 9, 4], [10, 10])\n",
      "28\n",
      "(0, [10, 7], [8, 9])\n",
      "24\n",
      "(1, [10, 10], [7, 8, 9])\n",
      "19\n",
      "(1, [10, 8], [2, 10, 10])\n",
      "14\n",
      "(1, [4, 5, 3], [10, 6, 7])\n",
      "8\n",
      "(1, [10, 10], [1, 2, 1, 5, 6, 10])\n",
      "0\n"
     ]
    }
   ],
   "source": [
    "win=0\n",
    "draw=0\n",
    "lose=0\n",
    "rounds=30\n",
    "deck=cards_deck()\n",
    "for i in range(rounds):\n",
    "    try:\n",
    "        if len(deck)> (len(deck)*20)/100:\n",
    "            result=play_hand(deck)\n",
    "            print(result)\n",
    "            print(len(deck))\n",
    "        \n",
    "            \n",
    "    except IndexError:\n",
    "        deck=cards_deck()\n",
    "        \n",
    "    "
   ]
  },
  {
   "cell_type": "code",
   "execution_count": 235,
   "metadata": {},
   "outputs": [
    {
     "data": {
      "text/plain": [
       "10.4"
      ]
     },
     "execution_count": 235,
     "metadata": {},
     "output_type": "execute_result"
    }
   ],
   "source": [
    "(len(deck)*shuffelPerentage)/100"
   ]
  },
  {
   "cell_type": "code",
   "execution_count": null,
   "metadata": {},
   "outputs": [],
   "source": []
  },
  {
   "cell_type": "code",
   "execution_count": null,
   "metadata": {},
   "outputs": [],
   "source": []
  },
  {
   "cell_type": "code",
   "execution_count": null,
   "metadata": {},
   "outputs": [],
   "source": []
  },
  {
   "cell_type": "code",
   "execution_count": null,
   "metadata": {},
   "outputs": [],
   "source": []
  },
  {
   "cell_type": "code",
   "execution_count": null,
   "metadata": {},
   "outputs": [],
   "source": []
  },
  {
   "cell_type": "code",
   "execution_count": null,
   "metadata": {},
   "outputs": [],
   "source": []
  },
  {
   "cell_type": "code",
   "execution_count": null,
   "metadata": {},
   "outputs": [],
   "source": []
  },
  {
   "cell_type": "code",
   "execution_count": null,
   "metadata": {},
   "outputs": [],
   "source": []
  },
  {
   "cell_type": "code",
   "execution_count": null,
   "metadata": {},
   "outputs": [],
   "source": []
  },
  {
   "cell_type": "code",
   "execution_count": null,
   "metadata": {},
   "outputs": [],
   "source": []
  },
  {
   "cell_type": "code",
   "execution_count": null,
   "metadata": {},
   "outputs": [],
   "source": []
  },
  {
   "cell_type": "code",
   "execution_count": 19,
   "metadata": {},
   "outputs": [
    {
     "data": {
      "text/plain": [
       "(14, 21, 47)"
      ]
     },
     "execution_count": 19,
     "metadata": {},
     "output_type": "execute_result"
    }
   ],
   "source": [
    "deck=cards_deck()\n",
    "play_hand(deck)"
   ]
  },
  {
   "cell_type": "code",
   "execution_count": 1,
   "metadata": {},
   "outputs": [],
   "source": [
    "import random\n",
    "import seaborn as sns\n",
    "import  matplotlib.pyplot as plt"
   ]
  },
  {
   "cell_type": "code",
   "execution_count": 103,
   "metadata": {},
   "outputs": [],
   "source": [
    "class Card(object):\n",
    "    def __init__(self,suit,value):\n",
    "        self.suit=suit\n",
    "        self.value=value\n",
    "        \n",
    "    def show(self): \n",
    "        cards=(str(self.value) + \" of \"+ self.suit)\n",
    "        print(cards)"
   ]
  },
  {
   "cell_type": "code",
   "execution_count": 139,
   "metadata": {},
   "outputs": [],
   "source": [
    "class Deck(object):\n",
    "    def __init__(self):\n",
    "        \n",
    "        self.cards=[]\n",
    "        #self.suffled_cards=random.shuffle([self.cards])\n",
    "        self.build()\n",
    "    \n",
    "    def build(self):\n",
    "        for s in [\"Spades\",\"Clubs\",\"Diamonds\",\"Hearts\"]:\n",
    "            for v in range(1,14):\n",
    "                self.cards.append(Card(s,v))\n",
    "                \n",
    "    def show(self): \n",
    "        for c in self.cards:\n",
    "            c.show()\n",
    "            print(len(self.cards))\n",
    "            \n",
    "    def shuffle(self):\n",
    "        for i in range(len(self.cards)-1,0,-1):\n",
    "            r=random.randint(0,i)\n",
    "            self.cards[i],self.cards[r]=self.cards[r],self.cards[i]\n",
    "    def drawCard(self):\n",
    "        return self.cards.pop()\n",
    "        "
   ]
  },
  {
   "cell_type": "code",
   "execution_count": 146,
   "metadata": {},
   "outputs": [],
   "source": [
    "class Player(object):\n",
    "    \n",
    "    def __init__(self,name):\n",
    "        self.hand=[]\n",
    "        self.name=name\n",
    "        \n",
    "    def draw (self,deck):\n",
    "        self.hand.append(deck.drawCard())\n",
    "        return self\n",
    "        \n",
    "    def showHand(self):\n",
    "        for card in self.hand:\n",
    "            card.show()"
   ]
  },
  {
   "cell_type": "code",
   "execution_count": null,
   "metadata": {},
   "outputs": [],
   "source": []
  },
  {
   "cell_type": "code",
   "execution_count": 174,
   "metadata": {},
   "outputs": [
    {
     "name": "stdout",
     "output_type": "stream",
     "text": [
      "13 of Spades\n",
      "4 of Clubs\n"
     ]
    }
   ],
   "source": [
    "deck=Deck()\n",
    "deck.shuffle()\n",
    "bob=Player(\"Bob\")\n",
    "bob.draw(deck).draw(deck)\n",
    "\n",
    "bob.showHand()"
   ]
  },
  {
   "cell_type": "code",
   "execution_count": null,
   "metadata": {},
   "outputs": [],
   "source": []
  },
  {
   "cell_type": "code",
   "execution_count": null,
   "metadata": {},
   "outputs": [],
   "source": []
  },
  {
   "cell_type": "code",
   "execution_count": null,
   "metadata": {},
   "outputs": [],
   "source": []
  },
  {
   "cell_type": "code",
   "execution_count": null,
   "metadata": {},
   "outputs": [],
   "source": []
  },
  {
   "cell_type": "code",
   "execution_count": null,
   "metadata": {},
   "outputs": [],
   "source": []
  },
  {
   "cell_type": "code",
   "execution_count": null,
   "metadata": {},
   "outputs": [],
   "source": []
  },
  {
   "cell_type": "code",
   "execution_count": null,
   "metadata": {},
   "outputs": [],
   "source": []
  },
  {
   "cell_type": "code",
   "execution_count": null,
   "metadata": {},
   "outputs": [],
   "source": []
  },
  {
   "cell_type": "code",
   "execution_count": null,
   "metadata": {},
   "outputs": [],
   "source": []
  },
  {
   "cell_type": "code",
   "execution_count": null,
   "metadata": {},
   "outputs": [],
   "source": []
  },
  {
   "cell_type": "code",
   "execution_count": null,
   "metadata": {},
   "outputs": [],
   "source": []
  },
  {
   "cell_type": "code",
   "execution_count": null,
   "metadata": {},
   "outputs": [],
   "source": []
  },
  {
   "cell_type": "code",
   "execution_count": null,
   "metadata": {},
   "outputs": [],
   "source": []
  },
  {
   "cell_type": "code",
   "execution_count": null,
   "metadata": {},
   "outputs": [],
   "source": []
  },
  {
   "cell_type": "code",
   "execution_count": null,
   "metadata": {},
   "outputs": [],
   "source": []
  },
  {
   "cell_type": "code",
   "execution_count": null,
   "metadata": {},
   "outputs": [],
   "source": []
  }
 ],
 "metadata": {
  "kernelspec": {
   "display_name": "Python 3",
   "language": "python",
   "name": "python3"
  },
  "language_info": {
   "codemirror_mode": {
    "name": "ipython",
    "version": 3
   },
   "file_extension": ".py",
   "mimetype": "text/x-python",
   "name": "python",
   "nbconvert_exporter": "python",
   "pygments_lexer": "ipython3",
   "version": "3.7.4"
  }
 },
 "nbformat": 4,
 "nbformat_minor": 2
}
