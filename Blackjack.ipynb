{
 "cells": [
  {
   "cell_type": "code",
   "execution_count": 2,
   "metadata": {},
   "outputs": [],
   "source": [
    "import random\n",
    "import seaborn as sns\n",
    "import  matplotlib.pyplot as plt\n",
    "import csv"
   ]
  },
  {
   "cell_type": "code",
   "execution_count": 3,
   "metadata": {},
   "outputs": [],
   "source": [
    "num_of_deck=1\n",
    "shuffle_perc=80\n",
    "\n",
    "def cards_deck(num_of_deck=num_of_deck):\n",
    "\n",
    "    std_deck=[ 1,2, 3, 4, 5, 6, 7, 8, 9, 10,10,10,10,\n",
    "               1,2, 3, 4, 5, 6, 7, 8, 9, 10,10,10,10,\n",
    "               1,2, 3, 4, 5, 6, 7, 8, 9, 10,10,10,10,\n",
    "               1,2, 3, 4, 5, 6, 7, 8, 9, 10,10,10,10          \n",
    "             ]\n",
    "    \n",
    "    std_deck =std_deck*num_of_deck\n",
    "    random.shuffle(std_deck)\n",
    "    return std_deck\n",
    "    "
   ]
  },
  {
   "cell_type": "code",
   "execution_count": 4,
   "metadata": {},
   "outputs": [],
   "source": [
    "\n",
    "def play_hand(deck):\n",
    "    new_deck=deck\n",
    "    dealer_hand=[]\n",
    "    player_hand=[]\n",
    "        \n",
    "    player_hand.append(new_deck.pop())\n",
    "    dealer_hand.append(new_deck.pop())\n",
    "    player_hand.append(new_deck.pop())\n",
    "    dealer_hand.append(new_deck.pop()) \n",
    "    \n",
    "    # deal player to 12 or higher\n",
    "    while sum(player_hand) < 12:\n",
    "        player_hand.append(new_deck.pop())\n",
    "     \n",
    "    #deal deal to hit soft 17\n",
    "    while sum(dealer_hand) < 18:\n",
    "        exit=False\n",
    "        \n",
    "        if sum(dealer_hand)== 17:\n",
    "            exit= True\n",
    "            \n",
    "            for i, card in enumerate(dealer_hand):\n",
    "                \n",
    "                if card==11:\n",
    "                    exit=False\n",
    "                    dealer_hand[1]=1\n",
    "                    \n",
    "        if exit:\n",
    "            break\n",
    "            \n",
    "        dealer_hand.append(new_deck.pop())\n",
    "        \n",
    "    #return(p_sum,d_sum,player_hand,dealer_hand)\n",
    "        \n",
    "    p_sum=sum(player_hand)\n",
    "    d_sum=sum(dealer_hand)\n",
    "    \n",
    "    # dealer bust\n",
    "    if d_sum >21:\n",
    "        return (1,player_hand,dealer_hand);\n",
    "    #dealer tie\n",
    "    if d_sum == p_sum:\n",
    "        return (0,player_hand,dealer_hand);\n",
    "    #dealer win\n",
    "    if d_sum > p_sum:\n",
    "        return (-1,player_hand,dealer_hand)\n",
    "    #dealer loose\n",
    "    if d_sum < p_sum:\n",
    "        return (1,player_hand,dealer_hand)"
   ]
  },
  {
   "cell_type": "code",
   "execution_count": 13,
   "metadata": {},
   "outputs": [
    {
     "data": {
      "text/plain": [
       "47"
      ]
     },
     "execution_count": 13,
     "metadata": {},
     "output_type": "execute_result"
    }
   ],
   "source": [
    "deck=cards_deck()\n",
    "#play_hand(deck)\n",
    "len(deck)"
   ]
  },
  {
   "cell_type": "code",
   "execution_count": 11,
   "metadata": {},
   "outputs": [],
   "source": [
    "header_name=[\"win\",\"draw\",\"loss\"]\n",
    "with open('status.csv', 'w') as file:\n",
    "    writer = csv.DictWriter(file, fieldnames=header_name)\n",
    "    writer.writeheader()"
   ]
  },
  {
   "cell_type": "code",
   "execution_count": 12,
   "metadata": {},
   "outputs": [],
   "source": [
    "win=0\n",
    "draw=0\n",
    "loss=0\n",
    "rounds=1000000\n",
    "num_of_deck= 5\n",
    "deck=cards_deck(num_of_deck=num_of_deck)\n",
    "totoal_card=len(deck)   \n",
    "\n",
    "for i in range(rounds):\n",
    "    if len(deck)> (totoal_card*20)/100:\n",
    "        try:  \n",
    "            result=play_hand(deck)\n",
    "            #print(result)\n",
    "            #print(len(deck))\n",
    "            \n",
    "            if result[0]==1:\n",
    "                win=win+1\n",
    "            if result[0]==0:\n",
    "                draw=draw+1\n",
    "            if result[0]== -1:\n",
    "                loss=loss+1\n",
    "                \n",
    "            #print( win, draw, loss)\n",
    "                \n",
    "            with open('status.csv', 'a') as file:\n",
    "                \n",
    "                writer = csv.DictWriter(file, fieldnames=header_name)\n",
    "                info = {'win': win,'draw': draw,'loss': loss}                            \n",
    "                writer.writerow(info)           \n",
    "            \n",
    "        except IndexError:\n",
    "            deck=cards_deck(num_of_deck=num_of_deck)\n",
    "    else:\n",
    "        #print(\"Shuffeling the card\")\n",
    "       # print()\n",
    "        deck=cards_deck(num_of_deck=num_of_deck)"
   ]
  },
  {
   "cell_type": "code",
   "execution_count": null,
   "metadata": {},
   "outputs": [],
   "source": []
  },
  {
   "cell_type": "code",
   "execution_count": null,
   "metadata": {},
   "outputs": [],
   "source": []
  },
  {
   "cell_type": "code",
   "execution_count": null,
   "metadata": {},
   "outputs": [],
   "source": []
  },
  {
   "cell_type": "code",
   "execution_count": null,
   "metadata": {},
   "outputs": [],
   "source": []
  },
  {
   "cell_type": "code",
   "execution_count": null,
   "metadata": {},
   "outputs": [],
   "source": []
  },
  {
   "cell_type": "code",
   "execution_count": null,
   "metadata": {},
   "outputs": [],
   "source": []
  },
  {
   "cell_type": "code",
   "execution_count": null,
   "metadata": {},
   "outputs": [],
   "source": []
  },
  {
   "cell_type": "code",
   "execution_count": null,
   "metadata": {},
   "outputs": [],
   "source": []
  },
  {
   "cell_type": "code",
   "execution_count": null,
   "metadata": {},
   "outputs": [],
   "source": []
  },
  {
   "cell_type": "code",
   "execution_count": null,
   "metadata": {},
   "outputs": [],
   "source": []
  },
  {
   "cell_type": "code",
   "execution_count": 1,
   "metadata": {},
   "outputs": [],
   "source": [
    "import random\n",
    "import seaborn as sns\n",
    "import  matplotlib.pyplot as plt"
   ]
  },
  {
   "cell_type": "code",
   "execution_count": 103,
   "metadata": {},
   "outputs": [],
   "source": [
    "class Card(object):\n",
    "    def __init__(self,suit,value):\n",
    "        self.suit=suit\n",
    "        self.value=value\n",
    "        \n",
    "    def show(self): \n",
    "        cards=(str(self.value) + \" of \"+ self.suit)\n",
    "        print(cards)"
   ]
  },
  {
   "cell_type": "code",
   "execution_count": 139,
   "metadata": {},
   "outputs": [],
   "source": [
    "class Deck(object):\n",
    "    def __init__(self):\n",
    "        \n",
    "        self.cards=[]\n",
    "        #self.suffled_cards=random.shuffle([self.cards])\n",
    "        self.build()\n",
    "    \n",
    "    def build(self):\n",
    "        for s in [\"Spades\",\"Clubs\",\"Diamonds\",\"Hearts\"]:\n",
    "            for v in range(1,14):\n",
    "                self.cards.append(Card(s,v))\n",
    "                \n",
    "    def show(self): \n",
    "        for c in self.cards:\n",
    "            c.show()\n",
    "            print(len(self.cards))\n",
    "            \n",
    "    def shuffle(self):\n",
    "        for i in range(len(self.cards)-1,0,-1):\n",
    "            r=random.randint(0,i)\n",
    "            self.cards[i],self.cards[r]=self.cards[r],self.cards[i]\n",
    "    def drawCard(self):\n",
    "        return self.cards.pop()\n",
    "        "
   ]
  },
  {
   "cell_type": "code",
   "execution_count": 146,
   "metadata": {},
   "outputs": [],
   "source": [
    "class Player(object):\n",
    "    \n",
    "    def __init__(self,name):\n",
    "        self.hand=[]\n",
    "        self.name=name\n",
    "        \n",
    "    def draw (self,deck):\n",
    "        self.hand.append(deck.drawCard())\n",
    "        return self\n",
    "        \n",
    "    def showHand(self):\n",
    "        for card in self.hand:\n",
    "            card.show()"
   ]
  },
  {
   "cell_type": "code",
   "execution_count": null,
   "metadata": {},
   "outputs": [],
   "source": []
  },
  {
   "cell_type": "code",
   "execution_count": 174,
   "metadata": {},
   "outputs": [
    {
     "name": "stdout",
     "output_type": "stream",
     "text": [
      "13 of Spades\n",
      "4 of Clubs\n"
     ]
    }
   ],
   "source": [
    "deck=Deck()\n",
    "deck.shuffle()\n",
    "bob=Player(\"Bob\")\n",
    "bob.draw(deck).draw(deck)\n",
    "\n",
    "bob.showHand()"
   ]
  },
  {
   "cell_type": "code",
   "execution_count": null,
   "metadata": {},
   "outputs": [],
   "source": []
  },
  {
   "cell_type": "code",
   "execution_count": null,
   "metadata": {},
   "outputs": [],
   "source": []
  },
  {
   "cell_type": "code",
   "execution_count": null,
   "metadata": {},
   "outputs": [],
   "source": []
  },
  {
   "cell_type": "code",
   "execution_count": null,
   "metadata": {},
   "outputs": [],
   "source": []
  },
  {
   "cell_type": "code",
   "execution_count": null,
   "metadata": {},
   "outputs": [],
   "source": []
  },
  {
   "cell_type": "code",
   "execution_count": null,
   "metadata": {},
   "outputs": [],
   "source": []
  },
  {
   "cell_type": "code",
   "execution_count": null,
   "metadata": {},
   "outputs": [],
   "source": []
  },
  {
   "cell_type": "code",
   "execution_count": null,
   "metadata": {},
   "outputs": [],
   "source": []
  },
  {
   "cell_type": "code",
   "execution_count": null,
   "metadata": {},
   "outputs": [],
   "source": []
  },
  {
   "cell_type": "code",
   "execution_count": null,
   "metadata": {},
   "outputs": [],
   "source": []
  },
  {
   "cell_type": "code",
   "execution_count": null,
   "metadata": {},
   "outputs": [],
   "source": []
  },
  {
   "cell_type": "code",
   "execution_count": null,
   "metadata": {},
   "outputs": [],
   "source": []
  },
  {
   "cell_type": "code",
   "execution_count": null,
   "metadata": {},
   "outputs": [],
   "source": []
  },
  {
   "cell_type": "code",
   "execution_count": null,
   "metadata": {},
   "outputs": [],
   "source": []
  },
  {
   "cell_type": "code",
   "execution_count": null,
   "metadata": {},
   "outputs": [],
   "source": []
  },
  {
   "cell_type": "code",
   "execution_count": null,
   "metadata": {},
   "outputs": [],
   "source": []
  }
 ],
 "metadata": {
  "kernelspec": {
   "display_name": "Python 3",
   "language": "python",
   "name": "python3"
  },
  "language_info": {
   "codemirror_mode": {
    "name": "ipython",
    "version": 3
   },
   "file_extension": ".py",
   "mimetype": "text/x-python",
   "name": "python",
   "nbconvert_exporter": "python",
   "pygments_lexer": "ipython3",
   "version": "3.6.6"
  }
 },
 "nbformat": 4,
 "nbformat_minor": 2
}
