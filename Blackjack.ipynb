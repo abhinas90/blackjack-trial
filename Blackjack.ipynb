{
 "cells": [
  {
   "cell_type": "code",
   "execution_count": 91,
   "metadata": {},
   "outputs": [],
   "source": [
    "import random\n",
    "import seaborn as sns\n",
    "import  matplotlib.pyplot as plt"
   ]
  },
  {
   "cell_type": "code",
   "execution_count": 70,
   "metadata": {},
   "outputs": [],
   "source": [
    "def deck(deck=2):\n",
    "    num=[1, 2, 3, 4, 5, 6, 7, 8, 9, 10,10,10,10]\n",
    "    all_deck=num*4*deck\n",
    "    random.shuffle(all_deck)\n",
    "    return(all_deck)"
   ]
  },
  {
   "cell_type": "code",
   "execution_count": 68,
   "metadata": {},
   "outputs": [],
   "source": [
    "def drawCard():\n",
    "    player_count=0\n",
    "    dealer_count=0\n",
    "    \n",
    "    player_count=player_count+x.pop()\n",
    "    #print(f\"Players first card:{player_count}\")\n",
    "    dealer_count=dealer_count+x.pop()\n",
    "    #print(f\"Dealers first card:{dealer_count}\")\n",
    "    player_count=player_count+x.pop()\n",
    "    dealer_count=dealer_count+x.pop()\n",
    "\n",
    "#     print(f\"Player Total: {player_count}\")\n",
    "#     print(f\"Dealer Total: {dealer_count}\")\n",
    "#     print(f\"Card remaining : {len(x)}\")\n",
    "#     print()\n",
    "    \n",
    "    if player_count>dealer_count:\n",
    "        #return(f\"Player won: ,{player_count} vs. {dealer_count}\",1)\n",
    "        return(1)\n",
    "    else:\n",
    "        #return (f\"Dealer won: {dealer_count} vs. {player_count}\",0)\n",
    "        return(0)\n",
    "    \n",
    "              "
   ]
  },
  {
   "cell_type": "code",
   "execution_count": 90,
   "metadata": {},
   "outputs": [
    {
     "data": {
      "text/plain": [
       "<matplotlib.axes._subplots.AxesSubplot at 0x1bcaf0b8>"
      ]
     },
     "execution_count": 90,
     "metadata": {},
     "output_type": "execute_result"
    },
    {
     "data": {
      "image/png": "[encoded data removed]",
      "text/plain": [
       "<Figure size 432x288 with 1 Axes>"
      ]
     },
     "metadata": {
      "needs_background": "light"
     },
     "output_type": "display_data"
    }
   ],
   "source": [
    "for i in range(100) :\n",
    "    rounds=len(deck())//4\n",
    "    result=[]\n",
    "    for i in range(rounds):\n",
    "        try:\n",
    "            a=drawCard()\n",
    "            result.append(a)\n",
    "        except IndexError:\n",
    "            #print(\"Time to Resuffle\")\n",
    "            x=deck()\n",
    "    #print(result)\n",
    "#     print(f'won: {sum(result)}')\n",
    "#     print(f'win%: {sum(result)/rounds*100}')\n",
    "#     print()\n",
    "sns.countplot(result)"
   ]
  },
  {
   "cell_type": "code",
   "execution_count": null,
   "metadata": {},
   "outputs": [],
   "source": []
  },
  {
   "cell_type": "code",
   "execution_count": null,
   "metadata": {},
   "outputs": [],
   "source": []
  }
 ],
 "metadata": {
  "kernelspec": {
   "display_name": "Python 3",
   "language": "python",
   "name": "python3"
  },
  "language_info": {
   "codemirror_mode": {
    "name": "ipython",
    "version": 3
   },
   "file_extension": ".py",
   "mimetype": "text/x-python",
   "name": "python",
   "nbconvert_exporter": "python",
   "pygments_lexer": "ipython3",
   "version": "3.6.6"
  }
 },
 "nbformat": 4,
 "nbformat_minor": 2
}
