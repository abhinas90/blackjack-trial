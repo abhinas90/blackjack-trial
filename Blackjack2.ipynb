{
 "cells": [
  {
   "cell_type": "code",
   "execution_count": 43,
   "metadata": {},
   "outputs": [],
   "source": [
    "import numpy as np\n",
    "import pandas as pd\n",
    "import random\n",
    "import matplotlib.pyplot as plt\n",
    "import seaborn as sns"
   ]
  },
  {
   "cell_type": "code",
   "execution_count": 67,
   "metadata": {},
   "outputs": [],
   "source": [
    "def deck(num_of_deck=1):\n",
    "    deck=[]\n",
    "    colors=[\"Heart\",\"Diamond\",\"Spade\",\"Club\"]\n",
    "    nums=[\"A\", \"2\", \"3\", \"4\", \"5\", \"6\", \"7\", \"8\", \"9\", \"T\",\"J\",\"Q\",\"K\"]\n",
    "    for color in colors:\n",
    "        for num in nums:\n",
    "            deck.append( num +\" of \"+ color)\n",
    "    random.shuffle(deck)\n",
    "    return(deck*num_of_deck)"
   ]
  },
  {
   "cell_type": "code",
   "execution_count": 114,
   "metadata": {},
   "outputs": [],
   "source": [
    "def pointCount(myCards):\n",
    "    \n",
    "    myCount=0\n",
    "    aceCount=0\n",
    "    \n",
    "    for i in myCards:\n",
    "        if (i[0]==\"J\" or i[0]==\"K\" or i[0]==\"Q\" or i[0]==\"T\"):\n",
    "            myCount+=10\n",
    "        elif(i[0] !=\"A\"):\n",
    "            myCount += int(i[0])\n",
    "        else:\n",
    "            aceCount+=1\n",
    "            if (aceCount==1 and myCount >=10):\n",
    "                myCount +=11\n",
    "            else:\n",
    "                myCount+=1\n",
    "       \n",
    "    return myCount                     "
   ]
  },
  {
   "cell_type": "code",
   "execution_count": 118,
   "metadata": {},
   "outputs": [
    {
     "data": {
      "text/plain": [
       "11"
      ]
     },
     "execution_count": 118,
     "metadata": {},
     "output_type": "execute_result"
    }
   ],
   "source": [
    "pointCount([\"A of Spades\",\"T of spades\"])"
   ]
  },
  {
   "cell_type": "code",
   "execution_count": null,
   "metadata": {},
   "outputs": [],
   "source": []
  },
  {
   "cell_type": "code",
   "execution_count": null,
   "metadata": {},
   "outputs": [],
   "source": [
    "myDeck=deck()\n",
    "def createDeal(myDeck):\n",
    "    dealerHand=[]\n",
    "    playerHand=[]\n",
    "\n",
    "    playerHand.append(myDeck.pop())\n",
    "    dealerHand.append(myDeck.pop())\n",
    "    playerHand.append(myDeck.pop())\n",
    "    dealerHand.append(myDeck.pop())\n",
    "    \n",
    "    while sum(playerHand)<12\n",
    "        dealerHand.append(myDeck.pop())\n",
    "        \n",
    "        \n",
    "        \n",
    "\n",
    "    "
   ]
  },
  {
   "cell_type": "code",
   "execution_count": null,
   "metadata": {},
   "outputs": [],
   "source": []
  }
 ],
 "metadata": {
  "kernelspec": {
   "display_name": "Python 3",
   "language": "python",
   "name": "python3"
  },
  "language_info": {
   "codemirror_mode": {
    "name": "ipython",
    "version": 3
   },
   "file_extension": ".py",
   "mimetype": "text/x-python",
   "name": "python",
   "nbconvert_exporter": "python",
   "pygments_lexer": "ipython3",
   "version": "3.7.4"
  }
 },
 "nbformat": 4,
 "nbformat_minor": 2
}
