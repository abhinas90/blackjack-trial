{
 "cells": [
  {
   "cell_type": "code",
   "execution_count": 36,
   "metadata": {},
   "outputs": [],
   "source": [
    "import random\n",
    "import seaborn as sns\n",
    "import  matplotlib.pyplot as plt\n",
    "import csv\n",
    "import pandas as pd"
   ]
  },
  {
   "cell_type": "code",
   "execution_count": 40,
   "metadata": {},
   "outputs": [],
   "source": [
    "num_of_deck=1\n",
    "def cards_deck(num_of_deck=num_of_deck):\n",
    "    \"\"\"Returns the full  shuffeled deck \"\"\"\n",
    "    std_deck=[ 1,2, 3, 4, 5, 6, 7, 8, 9, 10,10,10,10,\n",
    "               1,2, 3, 4, 5, 6, 7, 8, 9, 10,10,10,10,\n",
    "               1,2, 3, 4, 5, 6, 7, 8, 9, 10,10,10,10,\n",
    "               1,2, 3, 4, 5, 6, 7, 8, 9, 10,10,10,10          \n",
    "             ]\n",
    "    \n",
    "    std_deck =std_deck*num_of_deck\n",
    "    random.shuffle(std_deck)\n",
    "    return std_deck"
   ]
  },
  {
   "cell_type": "code",
   "execution_count": 30,
   "metadata": {},
   "outputs": [],
   "source": [
    "def count(cards_hand):\n",
    "    \"\"\"Return the sum of the card in hands with blackjack rule\"\"\"\n",
    "        not_aces=[card for card in cards_hand if card != 1 ]\n",
    "    aces=[card for card in cards_hand if card == 1]\n",
    "    total=0\n",
    "    \n",
    "    for card in not_aces:\n",
    "        total+=card\n",
    "        \n",
    "    for card in aces:\n",
    "        if total <= 10:\n",
    "            total +=11\n",
    "        else:\n",
    "            total +=1\n",
    "    return total"
   ]
  },
  {
   "cell_type": "code",
   "execution_count": 31,
   "metadata": {},
   "outputs": [],
   "source": [
    "def play_hand(deck):\n",
    "    new_deck=deck\n",
    "    dealer_hand=[]\n",
    "    player_hand=[]\n",
    "        \n",
    "    player_hand.append(new_deck.pop())\n",
    "    dealer_hand.append(new_deck.pop())\n",
    "    player_hand.append(new_deck.pop())\n",
    "    dealer_hand.append(new_deck.pop()) \n",
    "\n",
    "   \n",
    "    \n",
    "    \n",
    "    # deal player to 12 or higher\n",
    "    \n",
    "    #both dealer and plater has blackjack(21)\n",
    "    if ((count(dealer_hand) ==21) and (count(player_hand)==21) ):\n",
    "        return (0,player_hand,dealer_hand)\n",
    "   \n",
    "    #dealer has blackjack and player does not \n",
    "    elif ((count(dealer_hand) ==21) and (count(player_hand) !=21) ):\n",
    "        return (-1,player_hand,dealer_hand)\n",
    "    \n",
    "    #player has blackjack and dealer does not \n",
    "    elif ((count(dealer_hand) !=21) and (count(player_hand) ==21) ):\n",
    "        return (1,player_hand,dealer_hand)\n",
    "    \n",
    "    #neither dealer nor player has blackjack(21) with first 2 cards\n",
    "    else:\n",
    "        while count(player_hand) < 16:\n",
    "            player_hand.append(new_deck.pop())\n",
    "\n",
    "        #deal deal to hit soft 17\n",
    "        while count(dealer_hand) < 17:\n",
    "            exit=False\n",
    "\n",
    "            if count(dealer_hand)== 17:\n",
    "                exit= True\n",
    "\n",
    "                for i, card in enumerate(dealer_hand):\n",
    "\n",
    "                    if card==11:\n",
    "                        exit=False\n",
    "                        dealer_hand[1]=1\n",
    "\n",
    "            if exit:\n",
    "                break\n",
    "\n",
    "            dealer_hand.append(new_deck.pop())\n",
    "\n",
    "        #return(p_sum,d_sum,player_hand,dealer_hand)\n",
    "\n",
    "        p_sum=count(player_hand)\n",
    "        d_sum=count(dealer_hand)\n",
    "\n",
    "        # dealer bust\n",
    "        if d_sum >21:\n",
    "            return (1,player_hand,dealer_hand);\n",
    "        #player bust\n",
    "        if p_sum >21:\n",
    "            return (-1,player_hand,dealer_hand);       \n",
    "        #dealer tie\n",
    "        if d_sum == p_sum:\n",
    "            return (0,player_hand,dealer_hand);\n",
    "        #dealer win\n",
    "        if d_sum > p_sum:\n",
    "            return (-1,player_hand,dealer_hand)\n",
    "        #dealer loose\n",
    "        if d_sum < p_sum:\n",
    "            return (1,player_hand,dealer_hand)\n"
   ]
  },
  {
   "cell_type": "code",
   "execution_count": 32,
   "metadata": {},
   "outputs": [
    {
     "data": {
      "text/plain": [
       "307"
      ]
     },
     "execution_count": 32,
     "metadata": {},
     "output_type": "execute_result"
    }
   ],
   "source": [
    "deck=cards_deck(6)\n",
    "play_hand(deck)\n",
    "len(deck)"
   ]
  },
  {
   "cell_type": "code",
   "execution_count": 33,
   "metadata": {},
   "outputs": [
    {
     "name": "stdout",
     "output_type": "stream",
     "text": [
      "(-1, [3, 10, 1, 10], [9, 4, 8])\n",
      "(1, [2, 9, 10], [6, 6, 8])\n",
      "(1, [3, 7, 1], [8, 7, 10])\n",
      "(1, [10, 1], [5, 6])\n",
      "(-1, [9, 10], [5, 4, 1])\n",
      "(-1, [10, 2, 10], [10, 6, 2])\n",
      "(1, [3, 4, 9], [5, 10, 10])\n",
      "(1, [10, 1], [6, 4])\n",
      "(1, [5, 9, 3], [7, 8, 9])\n",
      "(-1, [2, 10, 10], [10, 8])\n"
     ]
    }
   ],
   "source": [
    "for i in range(10):\n",
    "    try:\n",
    "        print(play_hand(deck))\n",
    "    except IndexError:\n",
    "        deck=cards_deck()"
   ]
  },
  {
   "cell_type": "code",
   "execution_count": 38,
   "metadata": {},
   "outputs": [],
   "source": [
    "header_name=[\"win\",\"draw\",\"loss\"]\n",
    "with open('status.csv', 'w') as file:\n",
    "    writer = csv.DictWriter(file, fieldnames=header_name)\n",
    "    writer.writeheader()"
   ]
  },
  {
   "cell_type": "code",
   "execution_count": 39,
   "metadata": {},
   "outputs": [],
   "source": [
    "win=0\n",
    "draw=0\n",
    "loss=0\n",
    "\n",
    "win_loss=[]\n",
    "player_cards=[]\n",
    "dealer_cards=[]\n",
    "\n",
    "rounds=100000\n",
    "num_of_deck= 5\n",
    "gtype=\"soft17\"\n",
    "deck=cards_deck(num_of_deck=num_of_deck)\n",
    "total_card=len(deck)   \n",
    "\n",
    "for i in range(rounds):\n",
    "    if len(deck)> (total_card*20)/100:\n",
    "        try:  \n",
    "            wl,ph,dh= play_hand(deck)\n",
    "            win_loss.append(wl)\n",
    "            player_cards.append(ph)\n",
    "            dealer_cards.append(dh)\n",
    "            \n",
    "            if wl==1:\n",
    "                win=win+1\n",
    "            if wl==0:\n",
    "                draw=draw+1\n",
    "            if wl== -1:\n",
    "                loss=loss+1\n",
    "                \n",
    "            with open('status.csv', 'a') as file:\n",
    "                \n",
    "                writer = csv.DictWriter(file, fieldnames=header_name)\n",
    "                info = {'win': win,'draw': draw,'loss': loss}                            \n",
    "                writer.writerow(info)           \n",
    "            \n",
    "        except IndexError:\n",
    "            deck=cards_deck(num_of_deck=num_of_deck)\n",
    "    else:\n",
    "        #print(\"Shuffeling the card\")\n",
    "        deck=cards_deck(num_of_deck=num_of_deck)\n",
    "\n",
    "#creating dataframe         \n",
    "df=pd.DataFrame()\n",
    "df[\"win_loss\"]=win_loss\n",
    "df[\"player_cards\"]=player_cards\n",
    "df[\"dealer_cards\"]=dealer_cards\n",
    "#Saving Dt to Datarame folder\n",
    "df.to_csv(f\"dataframes/{str(num_of_deck)+gtype}\",index= False)"
   ]
  },
  {
   "cell_type": "code",
   "execution_count": null,
   "metadata": {},
   "outputs": [],
   "source": []
  }
 ],
 "metadata": {
  "kernelspec": {
   "display_name": "Python 3",
   "language": "python",
   "name": "python3"
  },
  "language_info": {
   "codemirror_mode": {
    "name": "ipython",
    "version": 3
   },
   "file_extension": ".py",
   "mimetype": "text/x-python",
   "name": "python",
   "nbconvert_exporter": "python",
   "pygments_lexer": "ipython3",
   "version": "3.7.4"
  }
 },
 "nbformat": 4,
 "nbformat_minor": 2
}
