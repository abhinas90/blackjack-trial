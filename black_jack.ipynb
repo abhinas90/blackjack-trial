{
 "cells": [
  {
   "cell_type": "code",
   "execution_count": 1,
   "metadata": {},
   "outputs": [],
   "source": [
    "import numpy as np\n",
    "import pandas as pd\n",
    "import random\n",
    "import matplotlib.pyplot as plt\n",
    "import seaborn as sns"
   ]
  },
  {
   "cell_type": "code",
   "execution_count": 2,
   "metadata": {},
   "outputs": [],
   "source": [
    "# This function lists out all permutations of ace values in the array sum_array\n",
    "# For example, if you have 2 aces, there are 4 permutations:\n",
    "#     [[1,1], [1,11], [11,1], [11,11]]\n",
    "# These permutations lead to 3 unique sums: [2, 12, 22]\n",
    "# Of these 3, only 2 are <=21 so they are returned: [2, 12]\n",
    "def get_ace_values(temp_list):\n",
    "    sum_array = np.zeros((2**len(temp_list), len(temp_list)))\n",
    "    # This loop gets the permutations\n",
    "    for i in range(len(temp_list)):\n",
    "        n = len(temp_list) - i\n",
    "        half_len = int(2**n * 0.5)\n",
    "        for rep in range(int(sum_array.shape[0]/half_len/2)):\n",
    "            sum_array[rep*2**n : rep*2**n+half_len, i] = 1\n",
    "            sum_array[rep*2**n+half_len : rep*2**n+half_len*2, i] = 11\n",
    "    # Only return values that are valid (<=21)\n",
    "    return list(set([int(s) for s in np.sum(sum_array, axis=1) if s<=21]))\n",
    "\n",
    "# Convert num_aces, an int to a list of lists\n",
    "# For example if num_aces=2, the output should be [[1,11],[1,11]]\n",
    "# I require this format for the get_ace_values function\n",
    "def ace_values(num_aces):\n",
    "    temp_list = []\n",
    "    for i in range(num_aces):\n",
    "        temp_list.append([1,11])\n",
    "    return get_ace_values(temp_list)"
   ]
  },
  {
   "cell_type": "code",
   "execution_count": 25,
   "metadata": {},
   "outputs": [
    {
     "data": {
      "text/plain": [
       "[1, 11]"
      ]
     },
     "execution_count": 25,
     "metadata": {},
     "output_type": "execute_result"
    }
   ],
   "source": [
    "ace_values(1)\n",
    "        "
   ]
  },
  {
   "cell_type": "code",
   "execution_count": 3,
   "metadata": {},
   "outputs": [],
   "source": [
    "# Make a deck\n",
    "def make_decks(num_decks, card_types):\n",
    "    new_deck = []\n",
    "    for i in range(num_decks):\n",
    "        for j in range(4):\n",
    "            new_deck.extend(card_types)\n",
    "    random.shuffle(new_deck)\n",
    "    return new_deck\n",
    "\n",
    "# Total up value of hand\n",
    "def total_up(hand):\n",
    "    aces = 0\n",
    "    total = 0\n",
    "    \n",
    "    for card in hand:\n",
    "        if card != 'A':\n",
    "            total += card\n",
    "        else:\n",
    "            aces += 1\n",
    "    \n",
    "    # Call function ace_values to produce list of possible values for aces in hand\n",
    "    ace_value_list = ace_values(aces)\n",
    "    final_totals = [i+total for i in ace_value_list if i+total<=21]\n",
    "    \n",
    "    if final_totals == []:\n",
    "        return min(ace_value_list) + total\n",
    "    else:\n",
    "        return max(final_totals)"
   ]
  },
  {
   "cell_type": "code",
   "execution_count": 4,
   "metadata": {},
   "outputs": [],
   "source": [
    "stacks = 50000\n",
    "players = 1\n",
    "num_decks = 1\n",
    "\n",
    "card_types = ['A',2,3,4,5,6,7,8,9,10,10,10,10]\n",
    "\n",
    "dealer_card_feature = []\n",
    "player_card_feature = []\n",
    "player_results = []\n",
    "\n",
    "for stack in range(stacks):\n",
    "    blackjack = set(['A',10])\n",
    "    dealer_cards = make_decks(num_decks, card_types)\n",
    "    while len(dealer_cards) > 20:\n",
    "        \n",
    "        curr_player_results = np.zeros((1,players))\n",
    "        \n",
    "        dealer_hand = []\n",
    "        player_hands = [[] for player in range(players)]\n",
    "\n",
    "        # Deal FIRST card\n",
    "        for player, hand in enumerate(player_hands):\n",
    "            player_hands[player].append(dealer_cards.pop(0))\n",
    "        dealer_hand.append(dealer_cards.pop(0))\n",
    "        # Deal SECOND card\n",
    "        for player, hand in enumerate(player_hands):\n",
    "            player_hands[player].append(dealer_cards.pop(0))\n",
    "        dealer_hand.append(dealer_cards.pop(0))\n",
    "\n",
    "        # Dealer checks for 21\n",
    "        if set(dealer_hand) == blackjack:\n",
    "            for player in range(players):\n",
    "                if set(player_hands[player]) != blackjack:\n",
    "                    curr_player_results[0,player] = -1\n",
    "                else:\n",
    "                    curr_player_results[0,player] = 0\n",
    "        else:\n",
    "            for player in range(players):\n",
    "                # Players check for 21\n",
    "                if set(player_hands[player]) == blackjack:\n",
    "                    curr_player_results[0,player] = 1\n",
    "                else:\n",
    "                    # Hit randomly, check for busts\n",
    "                    while (random.random() >= 0.5) and (total_up(player_hands[player]) != 21):\n",
    "                        player_hands[player].append(dealer_cards.pop(0))\n",
    "                        if total_up(player_hands[player]) > 21:\n",
    "                            curr_player_results[0,player] = -1\n",
    "                            break\n",
    "        \n",
    "        # Dealer hits based on the rules\n",
    "        while total_up(dealer_hand) < 17:\n",
    "            dealer_hand.append(dealer_cards.pop(0))\n",
    "        # Compare dealer hand to players hand but first check if dealer busted\n",
    "        if total_up(dealer_hand) > 21:\n",
    "            for player in range(players):\n",
    "                if curr_player_results[0,player] != -1:\n",
    "                    curr_player_results[0,player] = 1\n",
    "        else:\n",
    "            for player in range(players):\n",
    "                if total_up(player_hands[player]) > total_up(dealer_hand):\n",
    "                    if total_up(player_hands[player]) <= 21:\n",
    "                        curr_player_results[0,player] = 1\n",
    "                elif total_up(player_hands[player]) == total_up(dealer_hand):\n",
    "                    curr_player_results[0,player] = 0\n",
    "                else:\n",
    "                    curr_player_results[0,player] = -1\n",
    "        #print('player: ' + str(total_up(player_hands[player])),\n",
    "        #      'dealer: ' + str(total_up(dealer_hand)),\n",
    "        #      'result: ' + str(curr_player_results)\n",
    "        #     )    \n",
    "        \n",
    "        # Track features\n",
    "        dealer_card_feature.append(dealer_hand[0])\n",
    "        player_card_feature.append(player_hands)\n",
    "        player_results.append(list(curr_player_results[0]))\n",
    "\n",
    "model_df = pd.DataFrame()\n",
    "model_df['dealer_card'] = dealer_card_feature\n",
    "model_df['player_total_initial'] = [total_up(i[0][0:2]) for i in player_card_feature]\n",
    "model_df['Y'] = [i[0] for i in player_results]\n",
    "\n",
    "lose = []\n",
    "for i in model_df['Y']:\n",
    "    if i == -1:\n",
    "        lose.append(1)\n",
    "    else:\n",
    "        lose.append(0)\n",
    "model_df['lose'] = lose\n",
    "\n",
    "has_ace = []\n",
    "for i in player_card_feature:\n",
    "    if ('A' in i[0][0:2]):\n",
    "        has_ace.append(1)\n",
    "    else:\n",
    "        has_ace.append(0)\n",
    "model_df['has_ace'] = has_ace\n",
    "\n",
    "dealer_card_num = []\n",
    "for i in model_df['dealer_card']:\n",
    "    if i=='A':\n",
    "        dealer_card_num.append(11)\n",
    "    else:\n",
    "        dealer_card_num.append(i)\n",
    "model_df['dealer_card_num'] = dealer_card_num"
   ]
  },
  {
   "cell_type": "code",
   "execution_count": 5,
   "metadata": {},
   "outputs": [
    {
     "data": {
      "text/plain": [
       "312272"
      ]
     },
     "execution_count": 5,
     "metadata": {},
     "output_type": "execute_result"
    }
   ],
   "source": [
    "sum(pd.DataFrame(player_results)[0].value_counts())"
   ]
  },
  {
   "cell_type": "code",
   "execution_count": 15,
   "metadata": {},
   "outputs": [],
   "source": [
    "df=pd.DataFrame(player_results)[0]"
   ]
  },
  {
   "cell_type": "code",
   "execution_count": 19,
   "metadata": {},
   "outputs": [
    {
     "data": {
      "text/plain": [
       "-1.0    173240\n",
       " 1.0    138783\n",
       " 0.0     21655\n",
       "Name: 0, dtype: int64"
      ]
     },
     "execution_count": 19,
     "metadata": {},
     "output_type": "execute_result"
    }
   ],
   "source": [
    "df.value_counts()"
   ]
  },
  {
   "cell_type": "code",
   "execution_count": 20,
   "metadata": {},
   "outputs": [
    {
     "data": {
      "text/plain": [
       "<matplotlib.axes._subplots.AxesSubplot at 0x1a431946d0>"
      ]
     },
     "execution_count": 20,
     "metadata": {},
     "output_type": "execute_result"
    },
    {
     "data": {
      "image/png": "[encoded data removed]",
      "text/plain": [
       "<Figure size 432x288 with 1 Axes>"
      ]
     },
     "metadata": {
      "needs_background": "light"
     },
     "output_type": "display_data"
    }
   ],
   "source": [
    "sns.countplot(df.value_counts())"
   ]
  },
  {
   "cell_type": "code",
   "execution_count": 7,
   "metadata": {},
   "outputs": [
    {
     "data": {
      "image/png": "[encoded data removed]",
      "text/plain": [
       "<Figure size 720x432 with 1 Axes>"
      ]
     },
     "metadata": {
      "needs_background": "light"
     },
     "output_type": "display_data"
    }
   ],
   "source": [
    "data = 1 - (model_df.groupby(by='dealer_card').sum()['lose'] /\\\n",
    "            model_df.groupby(by='dealer_card').count()['lose'])\n",
    "\n",
    "fig, ax = plt.subplots(figsize=(10,6))\n",
    "ax = sns.barplot(x=data.index, \n",
    "                 y=data.values)\n",
    "ax.set_xlabel(\"Dealer's Card\",fontsize=16)\n",
    "ax.set_ylabel(\"Probability of Tie or Win\",fontsize=16)\n",
    "\n",
    "plt.tight_layout()\n",
    "plt.savefig(fname='dealer_card_probs', dpi=150)"
   ]
  },
  {
   "cell_type": "code",
   "execution_count": 8,
   "metadata": {},
   "outputs": [
    {
     "data": {
      "image/png": "[encoded data removed]",
      "text/plain": [
       "<Figure size 720x432 with 1 Axes>"
      ]
     },
     "metadata": {
      "needs_background": "light"
     },
     "output_type": "display_data"
    }
   ],
   "source": [
    "data = 1 - (model_df.groupby(by='player_total_initial').sum()['lose'] /\\\n",
    "            model_df.groupby(by='player_total_initial').count()['lose'])\n",
    "\n",
    "fig, ax = plt.subplots(figsize=(10,6))\n",
    "ax = sns.barplot(x=data[:-1].index,\n",
    "                 y=data[:-1].values)\n",
    "ax.set_xlabel(\"Player's Hand Value\",fontsize=16)\n",
    "ax.set_ylabel(\"Probability of Tie or Win\",fontsize=16)\n",
    "\n",
    "plt.tight_layout()\n",
    "plt.savefig(fname='player_hand_probs', dpi=150)"
   ]
  },
  {
   "cell_type": "code",
   "execution_count": 9,
   "metadata": {},
   "outputs": [
    {
     "data": {
      "text/plain": [
       "has_ace\n",
       "0    0.683315\n",
       "1    0.381194\n",
       "Name: lose, dtype: float64"
      ]
     },
     "execution_count": 9,
     "metadata": {},
     "output_type": "execute_result"
    }
   ],
   "source": [
    "model_df.groupby(by='has_ace').sum()['lose'] / model_df.groupby(by='has_ace').count()['lose']"
   ]
  },
  {
   "cell_type": "code",
   "execution_count": 10,
   "metadata": {},
   "outputs": [
    {
     "data": {
      "image/png": "[encoded data removed]",
      "text/plain": [
       "<Figure size 1152x576 with 2 Axes>"
      ]
     },
     "metadata": {
      "needs_background": "light"
     },
     "output_type": "display_data"
    }
   ],
   "source": [
    "pivot_data = model_df[model_df['player_total_initial'] != 21]\n",
    "\n",
    "losses_pivot = pd.pivot_table(pivot_data, values='lose', \n",
    "                              index=['dealer_card_num'],\n",
    "                              columns = ['player_total_initial'],\n",
    "                              aggfunc = np.sum)\n",
    "\n",
    "games_pivot =  pd.pivot_table(pivot_data, values='lose', \n",
    "                              index=['dealer_card_num'],\n",
    "                              columns = ['player_total_initial'],\n",
    "                              aggfunc = 'count')\n",
    "\n",
    "heat_data = 1 - losses_pivot.sort_index(ascending=False) / games_pivot.sort_index(ascending=False)\n",
    "\n",
    "fig, ax = plt.subplots(figsize=(16,8))\n",
    "sns.heatmap(heat_data, square=False, cmap=\"PiYG\");\n",
    "\n",
    "ax.set_xlabel(\"Player's Hand Value\",fontsize=16)\n",
    "ax.set_ylabel(\"Dealer's Card\",fontsize=16)\n",
    "\n",
    "plt.savefig(fname='heat_map_random', dpi=150)"
   ]
  },
  {
   "cell_type": "code",
   "execution_count": 11,
   "metadata": {},
   "outputs": [],
   "source": [
    "stacks = 50000\n",
    "players = 1\n",
    "num_decks = 1\n",
    "\n",
    "card_types = ['A',2,3,4,5,6,7,8,9,10,10,10,10]\n",
    "\n",
    "dealer_card_feature = []\n",
    "player_card_feature = []\n",
    "player_results = []\n",
    "\n",
    "for stack in range(stacks):\n",
    "    blackjack = set(['A',10])\n",
    "    dealer_cards = make_decks(num_decks, card_types)\n",
    "    while len(dealer_cards) > 20:\n",
    "        \n",
    "        curr_player_results = np.zeros((1,players))\n",
    "        \n",
    "        dealer_hand = []\n",
    "        player_hands = [[] for player in range(players)]\n",
    "\n",
    "        # Deal FIRST card\n",
    "        for player, hand in enumerate(player_hands):\n",
    "            player_hands[player].append(dealer_cards.pop(0))\n",
    "        dealer_hand.append(dealer_cards.pop(0))\n",
    "        # Deal SECOND card\n",
    "        for player, hand in enumerate(player_hands):\n",
    "            player_hands[player].append(dealer_cards.pop(0))\n",
    "        dealer_hand.append(dealer_cards.pop(0))\n",
    "\n",
    "        # Dealer checks for 21\n",
    "        if set(dealer_hand) == blackjack:\n",
    "            for player in range(players):\n",
    "                if set(player_hands[player]) != blackjack:\n",
    "                    curr_player_results[0,player] = -1\n",
    "                else:\n",
    "                    curr_player_results[0,player] = 0\n",
    "        else:\n",
    "            for player in range(players):\n",
    "                # Players check for 21\n",
    "                if set(player_hands[player]) == blackjack:\n",
    "                    curr_player_results[0,player] = 1\n",
    "                else:\n",
    "                    # Hit only when we know we will not bust\n",
    "                    while total_up(player_hands[player]) <= 11:\n",
    "                        player_hands[player].append(dealer_cards.pop(0))\n",
    "                        if total_up(player_hands[player]) > 21:\n",
    "                            curr_player_results[0,player] = -1\n",
    "                            break\n",
    "        \n",
    "        # Dealer hits based on the rules\n",
    "        while total_up(dealer_hand) < 17:\n",
    "            dealer_hand.append(dealer_cards.pop(0))\n",
    "        # Compare dealer hand to players hand but first check if dealer busted\n",
    "        if total_up(dealer_hand) > 21:\n",
    "            for player in range(players):\n",
    "                if curr_player_results[0,player] != -1:\n",
    "                    curr_player_results[0,player] = 1\n",
    "        else:\n",
    "            for player in range(players):\n",
    "                if total_up(player_hands[player]) > total_up(dealer_hand):\n",
    "                    if total_up(player_hands[player]) <= 21:\n",
    "                        curr_player_results[0,player] = 1\n",
    "                elif total_up(player_hands[player]) == total_up(dealer_hand):\n",
    "                    curr_player_results[0,player] = 0\n",
    "                else:\n",
    "                    curr_player_results[0,player] = -1\n",
    "        #print('player: ' + str(total_up(player_hands[player])),\n",
    "        #      'dealer: ' + str(total_up(dealer_hand)),\n",
    "        #      'result: ' + str(curr_player_results)\n",
    "        #     )    \n",
    "        \n",
    "        # Track features\n",
    "        dealer_card_feature.append(dealer_hand[0])\n",
    "        player_card_feature.append(player_hands)\n",
    "        player_results.append(list(curr_player_results[0]))\n",
    "\n",
    "model_df_smart = pd.DataFrame()\n",
    "model_df_smart['dealer_card'] = dealer_card_feature\n",
    "model_df_smart['player_total_initial'] = [total_up(i[0][0:2]) for i in player_card_feature]\n",
    "model_df_smart['Y'] = [i[0] for i in player_results]\n",
    "\n",
    "lose = []\n",
    "for i in model_df_smart['Y']:\n",
    "    if i == -1:\n",
    "        lose.append(1)\n",
    "    else:\n",
    "        lose.append(0)\n",
    "model_df_smart['lose'] = lose\n",
    "\n",
    "has_ace = []\n",
    "for i in player_card_feature:\n",
    "    if ('A' in i[0][0:2]):\n",
    "        has_ace.append(1)\n",
    "    else:\n",
    "        has_ace.append(0)\n",
    "model_df_smart['has_ace'] = has_ace\n",
    "\n",
    "dealer_card_num = []\n",
    "for i in model_df_smart['dealer_card']:\n",
    "    if i=='A':\n",
    "        dealer_card_num.append(11)\n",
    "    else:\n",
    "        dealer_card_num.append(i)\n",
    "model_df_smart['dealer_card_num'] = dealer_card_num"
   ]
  },
  {
   "cell_type": "code",
   "execution_count": 12,
   "metadata": {},
   "outputs": [
    {
     "data": {
      "image/png": "[encoded data removed]",
      "text/plain": [
       "<Figure size 864x432 with 1 Axes>"
      ]
     },
     "metadata": {
      "needs_background": "light"
     },
     "output_type": "display_data"
    }
   ],
   "source": [
    "data_smart = 1 - (model_df_smart.groupby(by='dealer_card_num').sum()['lose'] /\\\n",
    "                  model_df_smart.groupby(by='dealer_card_num').count()['lose'])\n",
    "data_random = 1 - (model_df.groupby(by='dealer_card_num').sum()['lose'] /\\\n",
    "                   model_df.groupby(by='dealer_card_num').count()['lose'])\n",
    "\n",
    "data = pd.DataFrame()\n",
    "data['smart'] = data_smart\n",
    "data['random'] = data_random\n",
    "\n",
    "fig, ax = plt.subplots(figsize=(12,6))\n",
    "ax.bar(x=data.index-0.2, height=data['smart'].values, color='blue', width=0.4, label='Smart')\n",
    "ax.bar(x=data.index+0.2, height=data['random'].values, color='red', width=0.4, label='Coin Flip')\n",
    "ax.set_xlabel(\"Dealer's Card\",fontsize=16)\n",
    "ax.set_ylabel(\"Probability of Tie or Win\",fontsize=16)\n",
    "plt.xticks(np.arange(2, 12, 1.0))\n",
    "\n",
    "plt.legend()\n",
    "plt.tight_layout()\n",
    "plt.savefig(fname='dealer_card_probs_smart', dpi=150)"
   ]
  },
  {
   "cell_type": "code",
   "execution_count": 13,
   "metadata": {},
   "outputs": [
    {
     "data": {
      "image/png": "[encoded data removed]",
      "text/plain": [
       "<Figure size 864x432 with 1 Axes>"
      ]
     },
     "metadata": {
      "needs_background": "light"
     },
     "output_type": "display_data"
    }
   ],
   "source": [
    "data_smart = 1 - (model_df_smart.groupby(by='player_total_initial').sum()['lose'] /\\\n",
    "                  model_df_smart.groupby(by='player_total_initial').count()['lose'])\n",
    "data_random = 1 - (model_df.groupby(by='player_total_initial').sum()['lose'] /\\\n",
    "                   model_df.groupby(by='player_total_initial').count()['lose'])\n",
    "\n",
    "data = pd.DataFrame()\n",
    "data['smart'] = data_smart[:-1]\n",
    "data['random'] = data_random[:-1]\n",
    "\n",
    "fig, ax = plt.subplots(figsize=(12,6))\n",
    "ax.bar(x=data.index-0.2, height=data['smart'].values, color='blue', width=0.4, label='Smart')\n",
    "ax.bar(x=data.index+0.2, height=data['random'].values, color='red', width=0.4, label='Coin Flip')\n",
    "ax.set_xlabel(\"Player's Hand Value\",fontsize=16)\n",
    "ax.set_ylabel(\"Probability of Tie or Win\",fontsize=16)\n",
    "plt.xticks(np.arange(4, 21, 1.0))\n",
    "\n",
    "plt.legend()\n",
    "plt.tight_layout()\n",
    "plt.savefig(fname='player_hand_probs_smart', dpi=150)"
   ]
  },
  {
   "cell_type": "code",
   "execution_count": null,
   "metadata": {},
   "outputs": [],
   "source": []
  },
  {
   "cell_type": "code",
   "execution_count": 14,
   "metadata": {},
   "outputs": [
    {
     "data": {
      "text/plain": [
       "[4, 14]"
      ]
     },
     "execution_count": 14,
     "metadata": {},
     "output_type": "execute_result"
    }
   ],
   "source": [
    "ace_values(num_aces=4)"
   ]
  },
  {
   "cell_type": "code",
   "execution_count": null,
   "metadata": {},
   "outputs": [],
   "source": []
  }
 ],
 "metadata": {
  "kernelspec": {
   "display_name": "Python 3",
   "language": "python",
   "name": "python3"
  },
  "language_info": {
   "codemirror_mode": {
    "name": "ipython",
    "version": 3
   },
   "file_extension": ".py",
   "mimetype": "text/x-python",
   "name": "python",
   "nbconvert_exporter": "python",
   "pygments_lexer": "ipython3",
   "version": "3.7.4"
  }
 },
 "nbformat": 4,
 "nbformat_minor": 2
}
