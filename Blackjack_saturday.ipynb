{
 "cells": [
  {
   "cell_type": "code",
   "execution_count": 99,
   "metadata": {},
   "outputs": [],
   "source": [
    "import random\n",
    "import seaborn as sns\n",
    "import  matplotlib.pyplot as plt\n",
    "import csv\n",
    "import numpy as np\n",
    "import pandas as pd"
   ]
  },
  {
   "cell_type": "code",
   "execution_count": 114,
   "metadata": {},
   "outputs": [
    {
     "name": "stdout",
     "output_type": "stream",
     "text": [
      "[8, 1, 4, 10, 2, 9, 4, 6, 10, 6, 9, 2, 10, 8, 1, 6, 5, 10, 3, 10, 8, 10, 6, 9, 6, 1, 4, 7, 10, 10, 3, 7, 10, 6, 5, 9, 8, 3, 5, 9, 2, 7, 8, 10, 10, 1, 10, 2, 10, 4, 10, 1, 6, 10, 10, 10, 1, 4, 3, 9, 5, 10, 10, 10, 3, 9, 1, 5, 7, 10, 10, 5, 9, 8, 10, 2, 10, 7, 10, 7, 10, 8, 10, 10, 4, 3, 4, 10, 3, 2, 7, 6, 3, 10, 8, 5, 10, 7, 5, 10, 4, 2, 2, 1]\n"
     ]
    }
   ],
   "source": [
    "num_of_deck=1\n",
    "def cards_deck(num_of_deck=num_of_deck):\n",
    "    \"\"\"Returns the full  shuffeled deck \"\"\"\n",
    "    std_deck=[ 1,2, 3, 4, 5, 6, 7, 8, 9, 10,10,10,10,\n",
    "               1,2, 3, 4, 5, 6, 7, 8, 9, 10,10,10,10,\n",
    "               1,2, 3, 4, 5, 6, 7, 8, 9, 10,10,10,10,\n",
    "               1,2, 3, 4, 5, 6, 7, 8, 9, 10,10,10,10          \n",
    "             ]\n",
    "    \n",
    "    std_deck =std_deck*num_of_deck\n",
    "    random.shuffle(std_deck)\n",
    "    return std_deck\n",
    "print(cards_deck(2))"
   ]
  },
  {
   "cell_type": "code",
   "execution_count": 19,
   "metadata": {},
   "outputs": [],
   "source": [
    "def count(cards_hand):\n",
    "    \"\"\"Return the sum of the card in hands with blackjack rule\"\"\"\n",
    "    not_aces=[card for card in cards_hand if card != 1 ]\n",
    "    aces=[card for card in cards_hand if card == 1]\n",
    "    total=0\n",
    "    \n",
    "    for card in not_aces:\n",
    "        total+=card\n",
    "        \n",
    "    for card in aces:\n",
    "        if total <= 10:\n",
    "            total +=11\n",
    "        else:\n",
    "            total +=1\n",
    "    return total"
   ]
  },
  {
   "cell_type": "code",
   "execution_count": 178,
   "metadata": {},
   "outputs": [],
   "source": [
    "def play_hand(deck):\n",
    "    \"\"\"Takes deck or card/card Returns tuple of win/loss/tie,\n",
    "    player,dealer_hand  (1= player win , 0= tie , -1 = player loose\"\"\"\n",
    "\n",
    "    new_deck=deck\n",
    "    dealer_hand=[]\n",
    "    player_hand=[]\n",
    "        \n",
    "    player_hand.append(new_deck.pop())\n",
    "    dealer_hand.append(new_deck.pop())\n",
    "    player_hand.append(new_deck.pop())\n",
    "    dealer_hand.append(new_deck.pop()) \n",
    " \n",
    "    # deal player to 12 or higher\n",
    "    \n",
    "    #both dealer and plater has blackjack(21)\n",
    "    if ((count(dealer_hand) ==21) and (count(player_hand)==21) ):\n",
    "        return (0,player_hand,dealer_hand)\n",
    "   \n",
    "    #dealer has blackjack and player does not \n",
    "    elif ((count(dealer_hand) ==21) and (count(player_hand) !=21) ):\n",
    "        return (-1,player_hand,dealer_hand)\n",
    "    \n",
    "    #player has blackjack and dealer does not \n",
    "    elif ((count(dealer_hand) !=21) and (count(player_hand) ==21) ):\n",
    "        return (1,player_hand,dealer_hand)\n",
    "    \n",
    "    #neither dealer nor player have blackjack(21) with first 2 cards\n",
    "    \n",
    "    else:\n",
    "        while count(player_hand) < 17:\n",
    "            player_hand.append(new_deck.pop())\n",
    "\n",
    "        #dealer must hit soft 17\n",
    "    while count(dealer_hand) < 17:\n",
    "        exit=False\n",
    "        \n",
    "        if count(dealer_hand)== 17:\n",
    "            exit= True\n",
    "            \n",
    "            for i, card in enumerate(dealer_hand):\n",
    "                \n",
    "                if card==11:\n",
    "                    exit=False\n",
    "                    dealer_hand[1]=1\n",
    "                    \n",
    "        if exit:\n",
    "            break\n",
    "            \n",
    "        dealer_hand.append(new_deck.pop())\n",
    "        \n",
    "    #return(p_sum,d_sum,player_hand,dealer_hand)\n",
    "        \n",
    "    p_sum=count(player_hand)\n",
    "    d_sum=count(dealer_hand)\n",
    "    \n",
    "    #player bust\n",
    "    if p_sum >=22 :\n",
    "        return (-1,player_hand,dealer_hand);\n",
    "    # dealer bust\n",
    "    if d_sum >21:\n",
    "        return (1,player_hand,dealer_hand);\n",
    "    #dealer tie\n",
    "    if d_sum == p_sum:\n",
    "        return (0,player_hand,dealer_hand);\n",
    "    #dealer win\n",
    "    if d_sum > p_sum:\n",
    "        return (-1,player_hand,dealer_hand);\n",
    "\n",
    "    #dealer loose\n",
    "    if d_sum < p_sum:\n",
    "        return (1,player_hand,dealer_hand);"
   ]
  },
  {
   "cell_type": "code",
   "execution_count": 179,
   "metadata": {},
   "outputs": [],
   "source": [
    "# create the empty csv filw named status had headed win draw and loss:\n",
    "header_name=[\"win\",\"draw\",\"loss\"]\n",
    "with open('status.csv', 'w') as file:\n",
    "    writer = csv.DictWriter(file, fieldnames=header_name)\n",
    "    writer.writeheader()"
   ]
  },
  {
   "cell_type": "code",
   "execution_count": 180,
   "metadata": {},
   "outputs": [],
   "source": [
    "win=0\n",
    "draw=0\n",
    "loss=0\n",
    "\n",
    "win_loss=[]\n",
    "player_cards=[]\n",
    "dealer_cards=[]\n",
    "\n",
    "rounds=100000\n",
    "num_of_deck= 8\n",
    "gtype=\"dealerhit17\"\n",
    "deck=cards_deck(num_of_deck=num_of_deck)\n",
    "total_card=len(deck)  \n",
    "\n",
    "deck=cards_deck(num_of_deck)\n",
    "play_hand(deck)\n",
    "\n",
    "for i in range(rounds):\n",
    "    if len(deck)> (total_card*20)/100:\n",
    "        try:  \n",
    "            wl,ph,dh= play_hand(deck)\n",
    "            win_loss.append(wl)\n",
    "            player_cards.append(ph)\n",
    "            dealer_cards.append(dh)\n",
    "            \n",
    "            if wl==1:\n",
    "                win=win+1\n",
    "            if wl==0:\n",
    "                draw=draw+1\n",
    "            if wl== -1:\n",
    "                loss=loss+1\n",
    "                \n",
    "            with open('status.csv', 'a') as file:\n",
    "                \n",
    "                writer = csv.DictWriter(file, fieldnames=header_name)\n",
    "                info = {'win': win,'draw': draw,'loss': loss}                            \n",
    "                writer.writerow(info)           \n",
    "            \n",
    "        except IndexError:\n",
    "            deck=cards_deck(num_of_deck=num_of_deck)\n",
    "    else:\n",
    "        #print(\"Shuffeling the card\")\n",
    "        deck=cards_deck(num_of_deck=num_of_deck)\n",
    "\n",
    "#creating dataframe         \n",
    "df=pd.DataFrame()\n",
    "df[\"win_loss\"]=win_loss\n",
    "df[\"player_cards\"]=player_cards\n",
    "df[\"dealer_cards\"]=dealer_cards\n",
    "#Saving Dt to Datarame folder\n",
    "df.to_csv(f\"dataframes/{str(num_of_deck)+gtype}.csv\",index= False)"
   ]
  },
  {
   "cell_type": "markdown",
   "metadata": {},
   "source": [
    "# Analyzing the outcome"
   ]
  },
  {
   "cell_type": "code",
   "execution_count": 181,
   "metadata": {},
   "outputs": [
    {
     "data": {
      "text/plain": [
       "(98324, 3)"
      ]
     },
     "execution_count": 181,
     "metadata": {},
     "output_type": "execute_result"
    }
   ],
   "source": [
    "df=pd.read_csv(f\"dataframes/{str(num_of_deck)+gtype}.csv\")\n",
    "df.shape"
   ]
  },
  {
   "cell_type": "code",
   "execution_count": 182,
   "metadata": {},
   "outputs": [
    {
     "data": {
      "image/png": "[encoded data removed]",
      "text/plain": [
       "<Figure size 432x288 with 1 Axes>"
      ]
     },
     "metadata": {
      "needs_background": "light"
     },
     "output_type": "display_data"
    }
   ],
   "source": [
    "sns.countplot(df.win_loss)\n",
    "plt.show()"
   ]
  },
  {
   "cell_type": "code",
   "execution_count": 183,
   "metadata": {},
   "outputs": [
    {
     "name": "stdout",
     "output_type": "stream",
     "text": [
      "Win percentage: 41 %\n",
      "Loss percentage: 49 %\n",
      "Draw percentage: 9 %\n"
     ]
    }
   ],
   "source": [
    "win_percentage=df[df.win_loss==1].shape[0]*100/len(df)\n",
    "loss_percentage=df[df.win_loss==-1].shape[0]*100/len(df)\n",
    "draw_percentage=df[df.win_loss==0].shape[0]*100/len(df)\n",
    "\n",
    "print(f\"Win percentage: {int(win_percentage)} %\")\n",
    "print(f\"Loss percentage: {int(loss_percentage)} %\")\n",
    "print(f\"Draw percentage: {int(draw_percentage)} %\")"
   ]
  },
  {
   "cell_type": "code",
   "execution_count": 184,
   "metadata": {},
   "outputs": [
    {
     "data": {
      "text/html": [
       "<div>\n",
       "<style scoped>\n",
       "    .dataframe tbody tr th:only-of-type {\n",
       "        vertical-align: middle;\n",
       "    }\n",
       "\n",
       "    .dataframe tbody tr th {\n",
       "        vertical-align: top;\n",
       "    }\n",
       "\n",
       "    .dataframe thead th {\n",
       "        text-align: right;\n",
       "    }\n",
       "</style>\n",
       "<table border=\"1\" class=\"dataframe\">\n",
       "  <thead>\n",
       "    <tr style=\"text-align: right;\">\n",
       "      <th></th>\n",
       "      <th>win_loss</th>\n",
       "      <th>player_cards</th>\n",
       "      <th>dealer_cards</th>\n",
       "    </tr>\n",
       "  </thead>\n",
       "  <tbody>\n",
       "    <tr>\n",
       "      <th>10446</th>\n",
       "      <td>-1</td>\n",
       "      <td>[3, 3, 10, 10]</td>\n",
       "      <td>[2, 6, 10]</td>\n",
       "    </tr>\n",
       "    <tr>\n",
       "      <th>63242</th>\n",
       "      <td>1</td>\n",
       "      <td>[10, 8]</td>\n",
       "      <td>[10, 7]</td>\n",
       "    </tr>\n",
       "    <tr>\n",
       "      <th>42126</th>\n",
       "      <td>-1</td>\n",
       "      <td>[5, 5, 9]</td>\n",
       "      <td>[9, 2, 10]</td>\n",
       "    </tr>\n",
       "    <tr>\n",
       "      <th>75314</th>\n",
       "      <td>-1</td>\n",
       "      <td>[5, 10, 4]</td>\n",
       "      <td>[10, 10]</td>\n",
       "    </tr>\n",
       "    <tr>\n",
       "      <th>78096</th>\n",
       "      <td>1</td>\n",
       "      <td>[2, 6, 8, 3]</td>\n",
       "      <td>[2, 6, 4, 5]</td>\n",
       "    </tr>\n",
       "    <tr>\n",
       "      <th>92884</th>\n",
       "      <td>-1</td>\n",
       "      <td>[10, 10]</td>\n",
       "      <td>[10, 1]</td>\n",
       "    </tr>\n",
       "    <tr>\n",
       "      <th>54045</th>\n",
       "      <td>1</td>\n",
       "      <td>[7, 5, 7]</td>\n",
       "      <td>[9, 6, 3]</td>\n",
       "    </tr>\n",
       "    <tr>\n",
       "      <th>59360</th>\n",
       "      <td>-1</td>\n",
       "      <td>[10, 3, 10]</td>\n",
       "      <td>[10, 10]</td>\n",
       "    </tr>\n",
       "    <tr>\n",
       "      <th>73298</th>\n",
       "      <td>1</td>\n",
       "      <td>[6, 6, 9]</td>\n",
       "      <td>[3, 5, 6, 2, 2]</td>\n",
       "    </tr>\n",
       "    <tr>\n",
       "      <th>67753</th>\n",
       "      <td>-1</td>\n",
       "      <td>[6, 10, 7]</td>\n",
       "      <td>[10, 10]</td>\n",
       "    </tr>\n",
       "    <tr>\n",
       "      <th>87481</th>\n",
       "      <td>-1</td>\n",
       "      <td>[2, 4, 2, 2, 3, 10]</td>\n",
       "      <td>[5, 4, 9]</td>\n",
       "    </tr>\n",
       "    <tr>\n",
       "      <th>66892</th>\n",
       "      <td>-1</td>\n",
       "      <td>[10, 6, 10]</td>\n",
       "      <td>[5, 10, 4]</td>\n",
       "    </tr>\n",
       "    <tr>\n",
       "      <th>72152</th>\n",
       "      <td>-1</td>\n",
       "      <td>[3, 3, 9, 10]</td>\n",
       "      <td>[10, 10]</td>\n",
       "    </tr>\n",
       "    <tr>\n",
       "      <th>64449</th>\n",
       "      <td>-1</td>\n",
       "      <td>[6, 10]</td>\n",
       "      <td>[10, 1]</td>\n",
       "    </tr>\n",
       "    <tr>\n",
       "      <th>76072</th>\n",
       "      <td>1</td>\n",
       "      <td>[5, 6, 7]</td>\n",
       "      <td>[6, 1]</td>\n",
       "    </tr>\n",
       "    <tr>\n",
       "      <th>92739</th>\n",
       "      <td>-1</td>\n",
       "      <td>[10, 5, 9]</td>\n",
       "      <td>[8, 1]</td>\n",
       "    </tr>\n",
       "    <tr>\n",
       "      <th>96917</th>\n",
       "      <td>-1</td>\n",
       "      <td>[4, 4, 10]</td>\n",
       "      <td>[10, 10]</td>\n",
       "    </tr>\n",
       "    <tr>\n",
       "      <th>69023</th>\n",
       "      <td>-1</td>\n",
       "      <td>[10, 5, 7]</td>\n",
       "      <td>[1, 8]</td>\n",
       "    </tr>\n",
       "    <tr>\n",
       "      <th>23065</th>\n",
       "      <td>1</td>\n",
       "      <td>[5, 3, 10]</td>\n",
       "      <td>[5, 1, 1]</td>\n",
       "    </tr>\n",
       "    <tr>\n",
       "      <th>56637</th>\n",
       "      <td>1</td>\n",
       "      <td>[10, 10]</td>\n",
       "      <td>[10, 6, 3]</td>\n",
       "    </tr>\n",
       "  </tbody>\n",
       "</table>\n",
       "</div>"
      ],
      "text/plain": [
       "       win_loss         player_cards     dealer_cards\n",
       "10446        -1       [3, 3, 10, 10]       [2, 6, 10]\n",
       "63242         1              [10, 8]          [10, 7]\n",
       "42126        -1            [5, 5, 9]       [9, 2, 10]\n",
       "75314        -1           [5, 10, 4]         [10, 10]\n",
       "78096         1         [2, 6, 8, 3]     [2, 6, 4, 5]\n",
       "92884        -1             [10, 10]          [10, 1]\n",
       "54045         1            [7, 5, 7]        [9, 6, 3]\n",
       "59360        -1          [10, 3, 10]         [10, 10]\n",
       "73298         1            [6, 6, 9]  [3, 5, 6, 2, 2]\n",
       "67753        -1           [6, 10, 7]         [10, 10]\n",
       "87481        -1  [2, 4, 2, 2, 3, 10]        [5, 4, 9]\n",
       "66892        -1          [10, 6, 10]       [5, 10, 4]\n",
       "72152        -1        [3, 3, 9, 10]         [10, 10]\n",
       "64449        -1              [6, 10]          [10, 1]\n",
       "76072         1            [5, 6, 7]           [6, 1]\n",
       "92739        -1           [10, 5, 9]           [8, 1]\n",
       "96917        -1           [4, 4, 10]         [10, 10]\n",
       "69023        -1           [10, 5, 7]           [1, 8]\n",
       "23065         1           [5, 3, 10]        [5, 1, 1]\n",
       "56637         1             [10, 10]       [10, 6, 3]"
      ]
     },
     "execution_count": 184,
     "metadata": {},
     "output_type": "execute_result"
    }
   ],
   "source": [
    "df.sample(n=20)"
   ]
  },
  {
   "cell_type": "code",
   "execution_count": 154,
   "metadata": {},
   "outputs": [],
   "source": [
    "df[\"player_cards\"]=df.player_cards.str.replace(\"]\",\"\").str.replace(\"[\",\"\")\n",
    "df[\"dealer_cards\"]=df.dealer_cards.str.replace(\"]\",\"\").str.replace(\"[\",\"\")\n",
    "\n",
    "players_df=df.player_cards.str.split(\",\",expand=True)\n",
    "players_df.columns=[\"ph\"+str(col+1) for col in  players_df.columns]\n",
    "\n",
    "dealers_df=df.dealer_cards.str.split(\",\",expand=True)\n",
    "dealers_df.columns=[\"dh\"+str(col+1) for col in  dealers_df.columns]\n",
    "\n",
    "df.drop(columns=[\"player_cards\",\"dealer_cards\"],inplace=True)\n",
    "\n",
    "new_df=pd.concat([df,players_df,dealers_df],axis=1)\n",
    "\n",
    "new_df.replace(np.nan,0,inplace=True)\n"
   ]
  },
  {
   "cell_type": "code",
   "execution_count": 170,
   "metadata": {},
   "outputs": [
    {
     "data": {
      "text/plain": [
       "18"
      ]
     },
     "execution_count": 170,
     "metadata": {},
     "output_type": "execute_result"
    }
   ],
   "source": [
    "count([1,7])"
   ]
  },
  {
   "cell_type": "code",
   "execution_count": null,
   "metadata": {},
   "outputs": [],
   "source": []
  }
 ],
 "metadata": {
  "kernelspec": {
   "display_name": "Python 3",
   "language": "python",
   "name": "python3"
  },
  "language_info": {
   "codemirror_mode": {
    "name": "ipython",
    "version": 3
   },
   "file_extension": ".py",
   "mimetype": "text/x-python",
   "name": "python",
   "nbconvert_exporter": "python",
   "pygments_lexer": "ipython3",
   "version": "3.7.4"
  }
 },
 "nbformat": 4,
 "nbformat_minor": 2
}
